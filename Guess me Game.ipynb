{
 "cells": [
  {
   "cell_type": "code",
   "execution_count": null,
   "metadata": {},
   "outputs": [],
   "source": [
    "print(ranNum)"
   ]
  },
  {
   "cell_type": "code",
   "execution_count": 2,
   "metadata": {},
   "outputs": [
    {
     "name": "stdout",
     "output_type": "stream",
     "text": [
      "WELCOME TO GUESS ME!\n",
      "I'm thinking of a number between 1 and 100\n",
      "If your guess is more than 10 away from my number, I'll tell you you're COLD\n",
      "If your guess is within 10 of my number, I'll tell you you're WARM\n",
      "If your guess is farther than your most recent guess, I'll say you're getting COLDER\n",
      "If your guess is closer than your most recent guess, I'll say you're getting WARMER\n",
      "LET'S PLAY!\n",
      "I'm thinking of a number between 1 and 100.\n",
      "  What is your guess? 55\n",
      "[0, 55]\n",
      "WARM\n",
      "I'm thinking of a number between 1 and 100.\n",
      "  What is your guess? 45\n",
      "[0, 55, 45]\n",
      "You are getting WARMER!!\n",
      "I'm thinking of a number between 1 and 100.\n",
      "  What is your guess? 50\n",
      "[0, 55, 45, 50]\n",
      "You are getting COLDER!!\n",
      "I'm thinking of a number between 1 and 100.\n",
      "  What is your guess? 48\n",
      "[0, 55, 45, 50, 48]\n",
      "You are getting WARMER!!\n",
      "I'm thinking of a number between 1 and 100.\n",
      "  What is your guess? 47\n",
      "[0, 55, 45, 50, 48, 47]\n",
      "You are getting WARMER!!\n",
      "I'm thinking of a number between 1 and 100.\n",
      "  What is your guess? 46\n",
      "CONGRATULATIONS, YOU GUESSED IT IN ONLY 6 GUESSES!!\n"
     ]
    }
   ],
   "source": [
    "import random\n",
    "ranNum = random.randint(1,100)\n",
    "print(\"WELCOME TO GUESS ME!\")\n",
    "print(\"I'm thinking of a number between 1 and 100\")\n",
    "print(\"If your guess is more than 10 away from my number, I'll tell you you're COLD\")\n",
    "print(\"If your guess is within 10 of my number, I'll tell you you're WARM\")\n",
    "print(\"If your guess is farther than your most recent guess, I'll say you're getting COLDER\")\n",
    "print(\"If your guess is closer than your most recent guess, I'll say you're getting WARMER\")\n",
    "print(\"LET'S PLAY!\")\n",
    "\n",
    "guesses=[0]\n",
    "    \n",
    "while True:\n",
    "\n",
    "    guess =int(input(\"I'm thinking of a number between 1 and 100.\\n  What is your guess? \"))\n",
    "    if guess<1 or guess >100:\n",
    "        print(\"OUT OF BOUNDS! Please try again: \")\n",
    "        continue\n",
    "    if guess == ranNum:\n",
    "        print(f'CONGRATULATIONS, YOU GUESSED IT IN ONLY {len(guesses)} GUESSES!!')\n",
    "        break\n",
    "    guesses.append(guess)\n",
    "    print(guesses)\n",
    "    # when testing the first guess, guesses[-2]==0, which evaluates to False\n",
    "    # and brings us down to the second section\n",
    "    if guesses[-2]: # not the first guess\n",
    "        if abs(ranNum-guess)<abs(ranNum-guesses[-2]):\n",
    "            print(\"You are getting WARMER!!\")\n",
    "        else:\n",
    "            print(\"You are getting COLDER!!\")\n",
    "    else: #first guess\n",
    "        if(abs(ranNum-guess))>10:\n",
    "            print(\"COLD\")\n",
    "        else:\n",
    "            print(\"WARM\")\n",
    "            \n",
    "        \n",
    "\n",
    "\n"
   ]
  }
 ],
 "metadata": {
  "kernelspec": {
   "display_name": "Python 3",
   "language": "python",
   "name": "python3"
  },
  "language_info": {
   "codemirror_mode": {
    "name": "ipython",
    "version": 3
   },
   "file_extension": ".py",
   "mimetype": "text/x-python",
   "name": "python",
   "nbconvert_exporter": "python",
   "pygments_lexer": "ipython3",
   "version": "3.8.3"
  }
 },
 "nbformat": 4,
 "nbformat_minor": 4
}
